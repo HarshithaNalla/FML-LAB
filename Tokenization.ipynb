{
  "nbformat": 4,
  "nbformat_minor": 0,
  "metadata": {
    "colab": {
      "provenance": [],
      "authorship_tag": "ABX9TyMFaeiADhFfvUw6bO55ieXZ",
      "include_colab_link": true
    },
    "kernelspec": {
      "name": "python3",
      "display_name": "Python 3"
    },
    "language_info": {
      "name": "python"
    }
  },
  "cells": [
    {
      "cell_type": "markdown",
      "metadata": {
        "id": "view-in-github",
        "colab_type": "text"
      },
      "source": [
        "<a href=\"https://colab.research.google.com/github/HarshithaNalla/FML-LAB/blob/main/Tokenization.ipynb\" target=\"_parent\"><img src=\"https://colab.research.google.com/assets/colab-badge.svg\" alt=\"Open In Colab\"/></a>"
      ]
    },
    {
      "cell_type": "code",
      "execution_count": null,
      "metadata": {
        "colab": {
          "base_uri": "https://localhost:8080/"
        },
        "id": "EYKOMLK61aDx",
        "outputId": "7b022f49-0266-47da-acfb-1e91a072aa98"
      },
      "outputs": [
        {
          "output_type": "stream",
          "name": "stdout",
          "text": [
            "['A', 'man', 'was', 'very', 'upset', 'with', 'his', 'old', 'parents.', 'He', 'sometimes', 'beat', 'them', 'in', 'anger.', 'One', 'day', 'he', 'threw', 'them', 'out', 'of', 'his', 'house.', 'They', 'both', 'left', 'the', 'house', 'sadly', 'and', 'never', 'came', 'back.', 'Now,', 'the', 'man', 'lived', 'happily', 'with', 'his', 'wife', 'and', 'children.', 'Twenty', 'years', 'later,', 'now', 'his', 'children', 'had', 'grown', 'up,', 'and', 'all', 'of', 'them', 'had', 'gotten', 'married.', 'They', 'were', 'doing', 'the', 'same', 'with', 'the', 'man', 'as', 'he', 'used', 'to', 'with', 'his', 'old', 'parents.', 'He', 'remembered', 'those', 'days', 'and', 'was', 'deeply', 'saddened', 'by', 'the', 'atrocities', 'that', 'he', 'had', 'done', 'against', 'his', 'parents.']\n",
            "94\n"
          ]
        }
      ],
      "source": [
        "#WORD TOKENIZATION\n",
        "TEXT='''A man was very upset with his old parents. He sometimes beat them in anger. One day he threw them out of his house. They both left the house sadly and never came back.\n",
        "Now, the man lived happily with his wife and children. Twenty years later, now his children had grown up, and all of them had gotten married. They were doing the same with the man as he used to with his old parents.\n",
        "He remembered those days and was deeply saddened by the atrocities that he had done against his parents.'''\n",
        "\n",
        "splitted_words = TEXT.split()\n",
        "print(splitted_words)\n",
        "print(len(splitted_words))\n"
      ]
    },
    {
      "cell_type": "code",
      "source": [
        "#SENTENCE TOKENIZATION\n",
        "splitted_sentences = TEXT.split('.')\n",
        "print(splitted_sentences)\n",
        "print(len(splitted_sentences))"
      ],
      "metadata": {
        "colab": {
          "base_uri": "https://localhost:8080/"
        },
        "id": "IS20ewxI6XbL",
        "outputId": "cb91d1c3-b6dc-49f2-f6cd-e650b910aa3c"
      },
      "execution_count": null,
      "outputs": [
        {
          "output_type": "stream",
          "name": "stdout",
          "text": [
            "['A man was very upset with his old parents', ' He sometimes beat them in anger', ' One day he threw them out of his house', ' They both left the house sadly and never came back', '\\nNow, the man lived happily with his wife and children', ' Twenty years later, now his children had grown up, and all of them had gotten married', ' They were doing the same with the man as he used to with his old parents', '\\nHe remembered those days and was deeply saddened by the atrocities that he had done against his parents', '']\n",
            "9\n"
          ]
        }
      ]
    },
    {
      "cell_type": "code",
      "source": [
        "#Tokenization using Regular Expressions (RegEx)\n",
        "#WORD TOKENIZATION\n",
        "import re\n",
        "splitted_words = re.findall(\"[\\w']+\", TEXT)  \n",
        "print(splitted_words)\n",
        "print(len(splitted_words))\n",
        "\n"
      ],
      "metadata": {
        "colab": {
          "base_uri": "https://localhost:8080/"
        },
        "id": "LrTouD2v6uic",
        "outputId": "1775bb25-a169-4144-b5f6-b3fa0efa3be1"
      },
      "execution_count": null,
      "outputs": [
        {
          "output_type": "stream",
          "name": "stdout",
          "text": [
            "['A', 'man', 'was', 'very', 'upset', 'with', 'his', 'old', 'parents', 'He', 'sometimes', 'beat', 'them', 'in', 'anger', 'One', 'day', 'he', 'threw', 'them', 'out', 'of', 'his', 'house', 'They', 'both', 'left', 'the', 'house', 'sadly', 'and', 'never', 'came', 'back', 'Now', 'the', 'man', 'lived', 'happily', 'with', 'his', 'wife', 'and', 'children', 'Twenty', 'years', 'later', 'now', 'his', 'children', 'had', 'grown', 'up', 'and', 'all', 'of', 'them', 'had', 'gotten', 'married', 'They', 'were', 'doing', 'the', 'same', 'with', 'the', 'man', 'as', 'he', 'used', 'to', 'with', 'his', 'old', 'parents', 'He', 'remembered', 'those', 'days', 'and', 'was', 'deeply', 'saddened', 'by', 'the', 'atrocities', 'that', 'he', 'had', 'done', 'against', 'his', 'parents']\n",
            "94\n"
          ]
        }
      ]
    },
    {
      "cell_type": "code",
      "source": [
        "#SENTENCE TOKENIZATION\n",
        "splitted_sentences =  re.compile('[.?!] ').split(TEXT)\n",
        "print(splitted_sentences)\n",
        "print(len(splitted_sentences))"
      ],
      "metadata": {
        "colab": {
          "base_uri": "https://localhost:8080/"
        },
        "id": "TNowyRjR8e1Z",
        "outputId": "cca06e1a-af44-4380-aad1-e0dcdd2dff52"
      },
      "execution_count": null,
      "outputs": [
        {
          "output_type": "stream",
          "name": "stdout",
          "text": [
            "['A man was very upset with his old parents', 'He sometimes beat them in anger', 'One day he threw them out of his house', 'They both left the house sadly and never came back.\\nNow, the man lived happily with his wife and children', 'Twenty years later, now his children had grown up, and all of them had gotten married', 'They were doing the same with the man as he used to with his old parents.\\nHe remembered those days and was deeply saddened by the atrocities that he had done against his parents.']\n",
            "6\n"
          ]
        }
      ]
    },
    {
      "cell_type": "code",
      "source": [
        "#Tokenization using NLTK\n",
        "!pip install --user -U nltk"
      ],
      "metadata": {
        "colab": {
          "base_uri": "https://localhost:8080/"
        },
        "id": "uCGKFKnW8-jK",
        "outputId": "d8bc68c0-a9b5-496d-ef22-bd1b01a80396"
      },
      "execution_count": null,
      "outputs": [
        {
          "output_type": "stream",
          "name": "stdout",
          "text": [
            "Looking in indexes: https://pypi.org/simple, https://us-python.pkg.dev/colab-wheels/public/simple/\n",
            "Requirement already satisfied: nltk in /usr/local/lib/python3.10/dist-packages (3.8.1)\n",
            "Requirement already satisfied: click in /usr/local/lib/python3.10/dist-packages (from nltk) (8.1.3)\n",
            "Requirement already satisfied: joblib in /usr/local/lib/python3.10/dist-packages (from nltk) (1.2.0)\n",
            "Requirement already satisfied: regex>=2021.8.3 in /usr/local/lib/python3.10/dist-packages (from nltk) (2022.10.31)\n",
            "Requirement already satisfied: tqdm in /usr/local/lib/python3.10/dist-packages (from nltk) (4.65.0)\n"
          ]
        }
      ]
    },
    {
      "cell_type": "code",
      "source": [
        "\n",
        "import nltk\n",
        "nltk.download('punkt')\n",
        "     "
      ],
      "metadata": {
        "colab": {
          "base_uri": "https://localhost:8080/"
        },
        "id": "UNxo4aEG9TjZ",
        "outputId": "51592187-4e96-493a-802b-f57a9cc6ee75"
      },
      "execution_count": null,
      "outputs": [
        {
          "output_type": "stream",
          "name": "stderr",
          "text": [
            "[nltk_data] Downloading package punkt to /root/nltk_data...\n",
            "[nltk_data]   Unzipping tokenizers/punkt.zip.\n"
          ]
        },
        {
          "output_type": "execute_result",
          "data": {
            "text/plain": [
              "True"
            ]
          },
          "metadata": {},
          "execution_count": 12
        }
      ]
    },
    {
      "cell_type": "code",
      "source": [
        "from nltk.tokenize import word_tokenize \n",
        "splitted_words = word_tokenize(TEXT)\n",
        "print(splitted_words)\n",
        "print(len(splitted_words))\n"
      ],
      "metadata": {
        "colab": {
          "base_uri": "https://localhost:8080/"
        },
        "id": "a8NJKq-j9ape",
        "outputId": "c89f2126-60f1-4d47-bb11-69dfcc7cc346"
      },
      "execution_count": null,
      "outputs": [
        {
          "output_type": "stream",
          "name": "stdout",
          "text": [
            "['A', 'man', 'was', 'very', 'upset', 'with', 'his', 'old', 'parents', '.', 'He', 'sometimes', 'beat', 'them', 'in', 'anger', '.', 'One', 'day', 'he', 'threw', 'them', 'out', 'of', 'his', 'house', '.', 'They', 'both', 'left', 'the', 'house', 'sadly', 'and', 'never', 'came', 'back', '.', 'Now', ',', 'the', 'man', 'lived', 'happily', 'with', 'his', 'wife', 'and', 'children', '.', 'Twenty', 'years', 'later', ',', 'now', 'his', 'children', 'had', 'grown', 'up', ',', 'and', 'all', 'of', 'them', 'had', 'gotten', 'married', '.', 'They', 'were', 'doing', 'the', 'same', 'with', 'the', 'man', 'as', 'he', 'used', 'to', 'with', 'his', 'old', 'parents', '.', 'He', 'remembered', 'those', 'days', 'and', 'was', 'deeply', 'saddened', 'by', 'the', 'atrocities', 'that', 'he', 'had', 'done', 'against', 'his', 'parents', '.']\n",
            "105\n"
          ]
        }
      ]
    },
    {
      "cell_type": "code",
      "source": [
        "from nltk.tokenize import sent_tokenize\n",
        "splitted_sentences = sent_tokenize(TEXT)\n",
        "print(splitted_sentences)\n",
        "print(len(splitted_sentences))"
      ],
      "metadata": {
        "colab": {
          "base_uri": "https://localhost:8080/"
        },
        "id": "QWFYRKLu_wb6",
        "outputId": "5ce57cc6-aa62-458f-d25f-d3db6c801b0e"
      },
      "execution_count": null,
      "outputs": [
        {
          "output_type": "stream",
          "name": "stdout",
          "text": [
            "['A man was very upset with his old parents.', 'He sometimes beat them in anger.', 'One day he threw them out of his house.', 'They both left the house sadly and never came back.', 'Now, the man lived happily with his wife and children.', 'Twenty years later, now his children had grown up, and all of them had gotten married.', 'They were doing the same with the man as he used to with his old parents.', 'He remembered those days and was deeply saddened by the atrocities that he had done against his parents.']\n",
            "8\n"
          ]
        }
      ]
    },
    {
      "cell_type": "code",
      "source": [
        "from nltk.stem import PorterStemmer"
      ],
      "metadata": {
        "id": "sHkboc_zAN_j"
      },
      "execution_count": null,
      "outputs": []
    },
    {
      "cell_type": "code",
      "source": [
        "porter = PorterStemmer()\n",
        "print(porter.stem(\"driving\"))\n",
        "print(porter.stem(\"dancing\"))"
      ],
      "metadata": {
        "colab": {
          "base_uri": "https://localhost:8080/"
        },
        "id": "Ve13Hrh_AvCs",
        "outputId": "25a65290-2336-41c7-9ef2-4d21aee85b77"
      },
      "execution_count": null,
      "outputs": [
        {
          "output_type": "stream",
          "name": "stdout",
          "text": [
            "drive\n",
            "danc\n"
          ]
        }
      ]
    }
  ]
}